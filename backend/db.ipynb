{
 "cells": [
  {
   "cell_type": "code",
   "execution_count": 2,
   "metadata": {},
   "outputs": [],
   "source": [
    "from database import SessionLocal"
   ]
  },
  {
   "cell_type": "code",
   "execution_count": 3,
   "metadata": {},
   "outputs": [],
   "source": [
    "db = SessionLocal()"
   ]
  },
  {
   "cell_type": "code",
   "execution_count": 4,
   "metadata": {},
   "outputs": [],
   "source": [
    "from models import Auth, User"
   ]
  },
  {
   "cell_type": "markdown",
   "metadata": {},
   "source": [
    "### CREATE INITIAL AUTH ROLES"
   ]
  },
  {
   "cell_type": "code",
   "execution_count": 5,
   "metadata": {},
   "outputs": [],
   "source": [
    "initial_auth_data  = [\n",
    "    Auth(name='MÜŞTERİ'),\n",
    "    Auth(name='SAÇ'),\n",
    "    Auth(name='MAKYAJ/NAIL ARTIST'),\n",
    "    Auth(name='ŞUBE YÖNETİCİSİ'),\n",
    "    Auth(name='ADMİN')\n",
    "]\n",
    "\n",
    "db.add_all(initial_auth_data)\n",
    "db.commit()"
   ]
  },
  {
   "cell_type": "markdown",
   "metadata": {},
   "source": [
    "### CREATE INITIAL DEPARTMENTS"
   ]
  },
  {
   "cell_type": "code",
   "execution_count": 5,
   "metadata": {},
   "outputs": [],
   "source": [
    "from models import Department\n",
    "initial_departments = [\n",
    "    Department(name='MAKYAJ'),\n",
    "    Department(name='SAÇ'),\n",
    "    Department(name='NAIL ART'),\n",
    "    Department(name='YÖNETİM'),\n",
    "    Department(name='DİĞER'),\n",
    "]\n",
    "\n",
    "db.add_all(initial_departments)\n",
    "db.commit()"
   ]
  },
  {
   "cell_type": "markdown",
   "metadata": {},
   "source": [
    "### CREATE INITIAL BRANCHES"
   ]
  },
  {
   "cell_type": "code",
   "execution_count": 6,
   "metadata": {},
   "outputs": [],
   "source": [
    "from models import Branch\n",
    "from schemas.branch import BranchSchema\n",
    "\n",
    "initial_branch_schemas = [\n",
    "    BranchSchema(\n",
    "        name='ZİYAPAŞA',\n",
    "        is_franchise=False,\n",
    "        studio_extra_guest_price=2500,\n",
    "        hotel_extra_guest_price=5000,\n",
    "        outside_extra_guest_price=5000,\n",
    "        department_ids = [1, 2, 4, 5]\n",
    "    ),\n",
    "    BranchSchema(\n",
    "        name='ETİLER',\n",
    "        is_franchise=False,\n",
    "        studio_extra_guest_price=2500,\n",
    "        hotel_extra_guest_price=5000,\n",
    "        outside_extra_guest_price=5000,\n",
    "        department_ids = [1, 2, 4, 5]\n",
    "    ),\n",
    "    BranchSchema(\n",
    "        name='NİŞANTAŞI',\n",
    "        is_franchise=False,\n",
    "        studio_extra_guest_price=2500,\n",
    "        hotel_extra_guest_price=5000,\n",
    "        outside_extra_guest_price=5000,\n",
    "        department_ids = [1, 2, 3, 4, 5]\n",
    "    ),\n",
    "    BranchSchema(\n",
    "        name='GAZİANTEP',\n",
    "        is_franchise=False,\n",
    "        studio_extra_guest_price=2500,\n",
    "        hotel_extra_guest_price=5000,\n",
    "        outside_extra_guest_price=5000,\n",
    "        department_ids = [1, 2, 4, 5]\n",
    "    ),\n",
    "    BranchSchema(\n",
    "        name='İZMİR',\n",
    "        is_franchise=False,\n",
    "        studio_extra_guest_price=2500,\n",
    "        hotel_extra_guest_price=5000,\n",
    "        outside_extra_guest_price=5000,\n",
    "        department_ids = [1, 2, 4, 5]\n",
    "    ),\n",
    "    BranchSchema(\n",
    "        name='KAHRAMANMARAŞ',\n",
    "        is_franchise=True,\n",
    "        studio_extra_guest_price=2500,\n",
    "        hotel_extra_guest_price=5000,\n",
    "        outside_extra_guest_price=5000,\n",
    "        department_ids = [1, 2, 3, 4, 5]\n",
    "    ),\n",
    "    BranchSchema(\n",
    "        name='MERSİN',\n",
    "        is_franchise=True,\n",
    "        studio_extra_guest_price=1500,\n",
    "        hotel_extra_guest_price=5000,\n",
    "        outside_extra_guest_price=5000,\n",
    "        department_ids = [1, 2, 4, 5]\n",
    "    ),\n",
    "    BranchSchema(\n",
    "        name='VAN',\n",
    "        is_franchise=False,\n",
    "        studio_extra_guest_price=2500,\n",
    "        hotel_extra_guest_price=5000,\n",
    "        outside_extra_guest_price=5000,\n",
    "        department_ids = [1, 2, 4, 5]\n",
    "    ),\n",
    "]\n",
    "\n",
    "for schema in initial_branch_schemas:\n",
    "    branch = Branch(\n",
    "        name=schema.name,\n",
    "        is_franchise=schema.is_franchise,\n",
    "        studio_extra_guest_price=schema.studio_extra_guest_price,\n",
    "        hotel_extra_guest_price=schema.hotel_extra_guest_price,\n",
    "        outside_extra_guest_price=schema.outside_extra_guest_price,\n",
    "        added_by=None\n",
    "    )\n",
    "    db.add(branch)\n",
    "    db.commit()\n",
    "    db.refresh(branch)\n",
    "\n",
    "    for dept_id in schema.department_ids:\n",
    "        department = db.query(Department).filter(Department.id == dept_id).first()\n",
    "        if department:\n",
    "            branch.departments.append(department)\n",
    "    db.commit()"
   ]
  },
  {
   "cell_type": "markdown",
   "metadata": {},
   "source": [
    "### CREATE EMPLOYMENT TYPES"
   ]
  },
  {
   "cell_type": "code",
   "execution_count": 8,
   "metadata": {},
   "outputs": [],
   "source": [
    "from models import EmploymentType\n",
    "\n",
    "initial_employment_types = [\n",
    "    EmploymentType(name='FULL-TIME'),\n",
    "    EmploymentType(name='PART-TIME'),\n",
    "    EmploymentType(name='FREELANCE'),\n",
    "]\n",
    "\n",
    "db.add_all(initial_employment_types)\n",
    "db.commit()"
   ]
  }
 ],
 "metadata": {
  "kernelspec": {
   "display_name": "Python 3",
   "language": "python",
   "name": "python3"
  },
  "language_info": {
   "codemirror_mode": {
    "name": "ipython",
    "version": 3
   },
   "file_extension": ".py",
   "mimetype": "text/x-python",
   "name": "python",
   "nbconvert_exporter": "python",
   "pygments_lexer": "ipython3",
   "version": "3.11.3"
  }
 },
 "nbformat": 4,
 "nbformat_minor": 2
}
