{
 "cells": [
  {
   "cell_type": "code",
   "execution_count": 1,
   "metadata": {},
   "outputs": [],
   "source": [
    "from database import SessionLocal\n",
    "db = SessionLocal()\n",
    "from models import Process, ProcessPrice, Employee, Department"
   ]
  },
  {
   "cell_type": "code",
   "execution_count": 3,
   "metadata": {},
   "outputs": [
    {
     "ename": "NameError",
     "evalue": "name 'db' is not defined",
     "output_type": "error",
     "traceback": [
      "\u001b[1;31m---------------------------------------------------------------------------\u001b[0m",
      "\u001b[1;31mNameError\u001b[0m                                 Traceback (most recent call last)",
      "Cell \u001b[1;32mIn[3], line 1\u001b[0m\n\u001b[1;32m----> 1\u001b[0m query \u001b[38;5;241m=\u001b[39m \u001b[43mdb\u001b[49m\u001b[38;5;241m.\u001b[39mquery(ProcessPrice\u001b[38;5;241m.\u001b[39mprice, Process\u001b[38;5;241m.\u001b[39mname, Department\u001b[38;5;241m.\u001b[39mname, Employee\u001b[38;5;241m.\u001b[39mname)\u001b[38;5;241m.\u001b[39mjoin(Process, Process\u001b[38;5;241m.\u001b[39mid \u001b[38;5;241m==\u001b[39m ProcessPrice\u001b[38;5;241m.\u001b[39mprocess_id)\u001b[38;5;241m.\u001b[39mjoin(Department, Department\u001b[38;5;241m.\u001b[39mid \u001b[38;5;241m==\u001b[39m Process\u001b[38;5;241m.\u001b[39mdepartment_id)\u001b[38;5;241m.\u001b[39mjoin(Employee, Employee\u001b[38;5;241m.\u001b[39mid \u001b[38;5;241m==\u001b[39m ProcessPrice\u001b[38;5;241m.\u001b[39memployee_id )\u001b[38;5;241m.\u001b[39mall()\n",
      "\u001b[1;31mNameError\u001b[0m: name 'db' is not defined"
     ]
    }
   ],
   "source": [
    "query = db.query(ProcessPrice.price, Process.name, Department.name, Employee.name).join(Process, Process.id == ProcessPrice.process_id).join(Department, Department.id == Process.department_id).join(Employee, Employee.id == ProcessPrice.employee_id ).all()"
   ]
  },
  {
   "cell_type": "code",
   "execution_count": 13,
   "metadata": {},
   "outputs": [
    {
     "data": {
      "text/plain": [
       "[(100.0, 'GELİNT', 'ARGE', 'Gulbera'),\n",
       " (200.0, 'GELİNF', 'ARGE', 'Gulbera'),\n",
       " (300.0, 'KINAF', 'İndirim', 'Talha'),\n",
       " (400.0, 'KINAT', 'İndirim', 'Talha')]"
      ]
     },
     "execution_count": 13,
     "metadata": {},
     "output_type": "execute_result"
    }
   ],
   "source": [
    "query"
   ]
  },
  {
   "cell_type": "code",
   "execution_count": 2,
   "metadata": {},
   "outputs": [
    {
     "ename": "NameError",
     "evalue": "name 'db' is not defined",
     "output_type": "error",
     "traceback": [
      "\u001b[1;31m---------------------------------------------------------------------------\u001b[0m",
      "\u001b[1;31mNameError\u001b[0m                                 Traceback (most recent call last)",
      "Cell \u001b[1;32mIn[2], line 1\u001b[0m\n\u001b[1;32m----> 1\u001b[0m query \u001b[38;5;241m=\u001b[39m \u001b[43mdb\u001b[49m\u001b[38;5;241m.\u001b[39mquery(ProcessPrice\u001b[38;5;241m.\u001b[39mid,\n\u001b[0;32m      2\u001b[0m         Process\u001b[38;5;241m.\u001b[39mid,\n\u001b[0;32m      3\u001b[0m         Employee\u001b[38;5;241m.\u001b[39mid,  \n\u001b[0;32m      4\u001b[0m         ProcessPrice\u001b[38;5;241m.\u001b[39mprice)\u001b[38;5;241m.\u001b[39mall()\n",
      "\u001b[1;31mNameError\u001b[0m: name 'db' is not defined"
     ]
    }
   ],
   "source": [
    "query = db.query(ProcessPrice.id, ProcessPrice.price, ProcessPrice.process_id, ProcessPrice.employee_id).all()"
   ]
  },
  {
   "cell_type": "code",
   "execution_count": 17,
   "metadata": {},
   "outputs": [
    {
     "data": {
      "text/plain": [
       "[(1, 100.0, 1, 1), (2, 200.0, 2, 1), (3, 300.0, 3, 3), (4, 400.0, 4, 3)]"
      ]
     },
     "execution_count": 17,
     "metadata": {},
     "output_type": "execute_result"
    }
   ],
   "source": [
    "query"
   ]
  }
 ],
 "metadata": {
  "kernelspec": {
   "display_name": "fastapienv",
   "language": "python",
   "name": "python3"
  },
  "language_info": {
   "codemirror_mode": {
    "name": "ipython",
    "version": 3
   },
   "file_extension": ".py",
   "mimetype": "text/x-python",
   "name": "python",
   "nbconvert_exporter": "python",
   "pygments_lexer": "ipython3",
   "version": "3.12.4"
  }
 },
 "nbformat": 4,
 "nbformat_minor": 2
}
